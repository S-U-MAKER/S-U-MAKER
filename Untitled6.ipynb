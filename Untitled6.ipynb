{
  "nbformat": 4,
  "nbformat_minor": 0,
  "metadata": {
    "colab": {
      "name": "Untitled6.ipynb",
      "provenance": [],
      "collapsed_sections": [],
      "authorship_tag": "ABX9TyPE8LO5NaD/Mw2hyY3MHV/U",
      "include_colab_link": true
    },
    "kernelspec": {
      "name": "python3",
      "display_name": "Python 3"
    },
    "language_info": {
      "name": "python"
    }
  },
  "cells": [
    {
      "cell_type": "markdown",
      "metadata": {
        "id": "view-in-github",
        "colab_type": "text"
      },
      "source": [
        "<a href=\"https://colab.research.google.com/github/S-U-MAKER/S-U-MAKER/blob/main/Untitled6.ipynb\" target=\"_parent\"><img src=\"https://colab.research.google.com/assets/colab-badge.svg\" alt=\"Open In Colab\"/></a>"
      ]
    },
    {
      "cell_type": "code",
      "execution_count": 4,
      "metadata": {
        "colab": {
          "base_uri": "https://localhost:8080/",
          "height": 372
        },
        "id": "N4DPACCR7a4X",
        "outputId": "b9642eaf-c534-48ec-b526-3bcb7ea7dbc8"
      },
      "outputs": [
        {
          "output_type": "stream",
          "name": "stdout",
          "text": [
            "Enter the max limit of elements to the list5\n",
            "Enter the elements to the list1\n",
            "Enter the elements to the list2\n",
            "Enter the elements to the list3\n",
            "Enter the elements to the list4\n",
            "Enter the elements to the list5\n",
            "[1, 2, 3, 4, 5]\n"
          ]
        },
        {
          "output_type": "error",
          "ename": "IndexError",
          "evalue": "ignored",
          "traceback": [
            "\u001b[0;31m---------------------------------------------------------------------------\u001b[0m",
            "\u001b[0;31mIndexError\u001b[0m                                Traceback (most recent call last)",
            "\u001b[0;32m<ipython-input-4-7063b0126ea5>\u001b[0m in \u001b[0;36m<module>\u001b[0;34m()\u001b[0m\n\u001b[1;32m      6\u001b[0m \u001b[0mprint\u001b[0m\u001b[0;34m(\u001b[0m\u001b[0mlist\u001b[0m\u001b[0;34m)\u001b[0m\u001b[0;34m\u001b[0m\u001b[0;34m\u001b[0m\u001b[0m\n\u001b[1;32m      7\u001b[0m \u001b[0mlist\u001b[0m\u001b[0;34m.\u001b[0m\u001b[0mpop\u001b[0m\u001b[0;34m(\u001b[0m\u001b[0;36m0\u001b[0m\u001b[0;34m)\u001b[0m\u001b[0;34m\u001b[0m\u001b[0;34m\u001b[0m\u001b[0m\n\u001b[0;32m----> 8\u001b[0;31m \u001b[0mlist\u001b[0m\u001b[0;34m.\u001b[0m\u001b[0mpop\u001b[0m\u001b[0;34m(\u001b[0m\u001b[0;36m4\u001b[0m\u001b[0;34m)\u001b[0m\u001b[0;34m\u001b[0m\u001b[0;34m\u001b[0m\u001b[0m\n\u001b[0m\u001b[1;32m      9\u001b[0m \u001b[0mlist\u001b[0m\u001b[0;34m.\u001b[0m\u001b[0mpop\u001b[0m\u001b[0;34m(\u001b[0m\u001b[0;36m5\u001b[0m\u001b[0;34m)\u001b[0m\u001b[0;34m\u001b[0m\u001b[0;34m\u001b[0m\u001b[0m\n\u001b[1;32m     10\u001b[0m \u001b[0mprint\u001b[0m\u001b[0;34m(\u001b[0m\u001b[0mlist\u001b[0m\u001b[0;34m)\u001b[0m\u001b[0;34m\u001b[0m\u001b[0;34m\u001b[0m\u001b[0m\n",
            "\u001b[0;31mIndexError\u001b[0m: pop index out of range"
          ]
        }
      ],
      "source": [
        " list=[]\n",
        "n=int(input(\"Enter the max limit of elements to the list\"))\n",
        "for i in range (0,n):\n",
        "  k=int(input(\"Enter the elements to the list\")) \n",
        "  list.append(k)\n",
        "print(list)\n",
        "list.pop(0)\n",
        "list.pop(4)\n",
        "list.pop(5)\n",
        "print(list)\n"
      ]
    },
    {
      "cell_type": "code",
      "source": [
        "s=''\n",
        "st=input(\"Enter the string : \")\n",
        "if len(st)<2: \n",
        " print(\"''\")\n",
        "else:\n",
        " s=st[:2]+st[-2:] \n",
        "print(s)"
      ],
      "metadata": {
        "colab": {
          "base_uri": "https://localhost:8080/"
        },
        "id": "W5qP6cp68jhe",
        "outputId": "ffc39bc4-073d-4c63-c5c5-b32db3e2b915"
      },
      "execution_count": 6,
      "outputs": [
        {
          "output_type": "stream",
          "name": "stdout",
          "text": [
            "Enter the string : sandeep kumar\n",
            "saar\n"
          ]
        }
      ]
    },
    {
      "cell_type": "code",
      "source": [
        "a=[]\n",
        "b=(11,12,13,14,15)\n",
        "print(\"Enter the first 5 even numbers \")\n",
        "for i in range (5):\n",
        " k=input(\"Enter the number \")\n",
        " a.append(k)\n",
        " c=tuple(a)\n",
        " d=c+b \n",
        "print(\"The length tuple is \",len(d))"
      ],
      "metadata": {
        "colab": {
          "base_uri": "https://localhost:8080/"
        },
        "id": "dfHBtPPx8y70",
        "outputId": "6dbf7925-a3dc-4a46-b570-773c06786b96"
      },
      "execution_count": 7,
      "outputs": [
        {
          "output_type": "stream",
          "name": "stdout",
          "text": [
            "Enter the first 5 even numbers \n",
            "Enter the number 5\n",
            "Enter the number 4\n",
            "Enter the number 3\n",
            "Enter the number 2\n",
            "Enter the number 1\n",
            "The length tuple is  10\n"
          ]
        }
      ]
    },
    {
      "cell_type": "code",
      "source": [
        "start =int(input (\"Enter the starting range \"))\n",
        "end = int(input (\"Enter the end range \"))\n",
        "for i in range(start, end+1): \n",
        " if i > 1: \n",
        "  for j in range(2, i): \n",
        "   if(i % j == 0):\n",
        "     break \n",
        " else:\n",
        "  print(i)\n"
      ],
      "metadata": {
        "colab": {
          "base_uri": "https://localhost:8080/"
        },
        "id": "Rl6NX4Hx89Cd",
        "outputId": "8c7a1588-c345-4627-b93f-2965aed63fe5"
      },
      "execution_count": 11,
      "outputs": [
        {
          "output_type": "stream",
          "name": "stdout",
          "text": [
            "Enter the starting range 1\n",
            "Enter the end range 20\n",
            "1\n"
          ]
        }
      ]
    },
    {
      "cell_type": "code",
      "source": [
        "infant = []\n",
        "child = []\n",
        "teenager = []\n",
        "adult = []\n",
        "senior_citizen = []\n",
        "n = int(input(\"Enter the total no of patients: \"))\n",
        "for i in range(0,n):\n",
        " k = int(input(\"Enter the age: \"))\n",
        " if k > 0 and k <= 2:\n",
        "    infant.append(k)\n",
        " elif k > 2 and k <= 9:\n",
        "   child.append(k)\n",
        "\n",
        " elif k > 9 and k <= 17:\n",
        "      teenager.append(k)\n",
        " elif k > 17 and k <= 59:\n",
        "     adult.append(k)\n",
        " else:\n",
        "    senior_citizen.append(k)\n",
        "print(\"Infant \",infant)\n",
        "print(\"Child \",child)\n",
        "print(\"Teenager \",teenager)\n",
        "print(\"Adult \",adult)\n",
        "print(\"Senior Citizen \",senior_citizen)\n"
      ],
      "metadata": {
        "colab": {
          "base_uri": "https://localhost:8080/"
        },
        "id": "X4VJxBci9cvm",
        "outputId": "e5427e6b-1208-4afe-c6c1-d7716e160d80"
      },
      "execution_count": 22,
      "outputs": [
        {
          "output_type": "stream",
          "name": "stdout",
          "text": [
            "Enter the total no of patients: 5\n",
            "Enter the age: 1\n",
            "Enter the age: 3\n",
            "Enter the age: 11\n",
            "Enter the age: 21\n",
            "Enter the age: 65\n",
            "Infant  [1]\n",
            "Child  [3]\n",
            "Teenager  [11]\n",
            "Adult  [21]\n",
            "Senior Citizen  [65]\n"
          ]
        }
      ]
    },
    {
      "cell_type": "code",
      "source": [
        "n = int(input('Enter the limit '))\n",
        "d = dict()\n",
        "for i in range(1,n+1):\n",
        " d[i] = i*i\n",
        "print(d)"
      ],
      "metadata": {
        "colab": {
          "base_uri": "https://localhost:8080/"
        },
        "id": "D2xG_gj9_weJ",
        "outputId": "fec8cc98-9c1d-4e7e-f3aa-2439c6263ea1"
      },
      "execution_count": 23,
      "outputs": [
        {
          "output_type": "stream",
          "name": "stdout",
          "text": [
            "Enter the limit 5\n",
            "{1: 1, 2: 4, 3: 9, 4: 16, 5: 25}\n"
          ]
        }
      ]
    },
    {
      "cell_type": "code",
      "source": [
        "items = {'Biscuit':10,'Bread':20,'Sugar' :44,'Jam' :40,'Cheese' :100,'Bournvita' :240,\n",
        " 'Tea Powder' :100,'Milk' :30, 'Coffe Powder' :40,'Cornflakes' :56,\n",
        " 'Rice' :78,'Dal' :100}\n",
        "name = input(\"Enter the name: \")\n",
        "plist = []\n",
        "name1 = []\n",
        "sum = 0\n",
        "while 1:\n",
        " option = int(input(\" '1' for buying the items \\n '2' for billing \\n\"))\n",
        " if option == 2:\n",
        "   break\n",
        " else:\n",
        "   item = input(\"Enter the item \")\n",
        "   if item in items.keys():\n",
        "      k = item\n",
        "      name1.append(k)\n",
        "      p = items[item]\n",
        "      plist.append(p)\n",
        "for i in plist:\n",
        " sum = sum + i\n",
        "print(\"The total bill \",sum, \" /Rs\" )"
      ],
      "metadata": {
        "colab": {
          "base_uri": "https://localhost:8080/"
        },
        "id": "qmhyZuvp_5DQ",
        "outputId": "42b4f283-769d-4e52-9540-3bba74bd10f3"
      },
      "execution_count": 27,
      "outputs": [
        {
          "output_type": "stream",
          "name": "stdout",
          "text": [
            "Enter the name: sandeep\n",
            " '1' for buying the items \n",
            " '2' for billing \n",
            "1\n",
            "Enter the item 33\n",
            " '1' for buying the items \n",
            " '2' for billing \n",
            "2\n",
            "The total bill  0  /Rs\n"
          ]
        }
      ]
    },
    {
      "cell_type": "code",
      "source": [
        "def even_odd_Sum():\n",
        " odd_sum=0\n",
        " even_sum=0\n",
        " n=int(input(\"enter how many digits yo u will enter : \"))\n",
        " for i in range(0,n):\n",
        "  num=int(input('enter the number : '))\n",
        "  if num%2==0:\n",
        "    even_sum += num\n",
        " else:\n",
        "   odd_sum += num\n",
        " return odd_sum,even_sum\n",
        "odd_sum,even_sum=even_odd_Sum()\n",
        "print('The entered numbers odd sum is ',odd_sum)\n",
        "print('\\nThe entered numbers even sum is ',even_sum)\n"
      ],
      "metadata": {
        "colab": {
          "base_uri": "https://localhost:8080/"
        },
        "id": "ntcXZmaoAjqT",
        "outputId": "1ff83f04-f97d-4475-d972-7f8be0f81cf1"
      },
      "execution_count": 29,
      "outputs": [
        {
          "output_type": "stream",
          "name": "stdout",
          "text": [
            "enter how many digits yo u will enter : 4\n",
            "enter the number : 1\n",
            "enter the number : 2\n",
            "enter the number : 3\n",
            "enter the number : 4\n",
            "The entered numbers odd sum is  4\n",
            "\n",
            "The entered numbers even sum is  6\n"
          ]
        }
      ]
    },
    {
      "cell_type": "code",
      "source": [
        "f=open(\"gowd.txt\",\"w\")\n",
        "f.write(\"1 iam sandeep\\n \")\n",
        "f.write(\"gowd\\n\")\n",
        "f.write(\"15 kumar\")\n",
        "f.close()\n",
        "with open(\"gowd.txt\",\"r\")as y:\n",
        "  x=y.readlines()\n",
        "  for i in x:\n",
        "   if i[0].isdigit()==True:\n",
        "     print(i)\n",
        "   else:\n",
        "      continue\n"
      ],
      "metadata": {
        "colab": {
          "base_uri": "https://localhost:8080/"
        },
        "id": "LOKXmGTZBCf2",
        "outputId": "ab5794fc-f568-41c5-8d22-92cad1f699b3"
      },
      "execution_count": 57,
      "outputs": [
        {
          "output_type": "stream",
          "name": "stdout",
          "text": [
            "1 iam sandeep\n",
            "\n",
            "15 kumar\n"
          ]
        }
      ]
    },
    {
      "cell_type": "code",
      "source": [
        "f=open(\"number.txt\",\"w\")\n",
        "f.write(\"40\\n\")\n",
        "f.write(\"80\\n\")\n",
        "f.write(\"96\\n\")\n",
        "f.write(\"78\\n\")\n",
        "f.close()\n",
        "with open(\"number.txt\",\"r\")as y:\n",
        "  x=y.readlines()\n",
        "  lst=[]\n",
        "  sum=0\n",
        "  for i in x:\n",
        "     lst.append(int (i))\n",
        "  for j in lst:\n",
        "    print(j)\n",
        "    sum+=j\n",
        "  lst.sort()\n",
        "  max=lst[-1]\n",
        "  min=lst[0]\n",
        "  count=len(lst)\n",
        "print(\"the count of number in the file\",count)\n",
        "print(\"the sum of number in the file\",sum)\n",
        "print(\"the maximum of number in the file\",max)\n",
        "print(\"the minimum of number in the file\",min)\n"
      ],
      "metadata": {
        "colab": {
          "base_uri": "https://localhost:8080/"
        },
        "id": "LSoM-0pqCSuz",
        "outputId": "4c4ab961-b505-4d36-e269-8689da7b3fdb"
      },
      "execution_count": 43,
      "outputs": [
        {
          "output_type": "stream",
          "name": "stdout",
          "text": [
            "40\n",
            "80\n",
            "96\n",
            "78\n",
            "the count of number in the file 4\n",
            "the sum of number in the file 294\n",
            "the maximum of number in the file 96\n",
            "the minimum of number in the file 40\n"
          ]
        }
      ]
    },
    {
      "cell_type": "code",
      "source": [
        "f = open(\"grade.txt\", \"w\")\n",
        "f.write(\" sai 79 85 65 88 100\\n\")\n",
        "f.write(\"dinesh 75 84 65 45 89\\n\")\n",
        "f.write(\"rakesh 66 52 54 97 76\\n\")\n",
        "f.write(\"sravan 92 85 67 72 95\\n\")\n",
        "f.write(\"pavan 90 62 70 82 74\\n\")\n",
        "f.close()\n",
        "with open(\"grade.txt\",\"r\") as y:\n",
        "  name_lst = []\n",
        "  summary=[]\n",
        "  for i in y:\n",
        "    stu=i.split()\n",
        "    lst = []\n",
        "    for i in stu:\n",
        "     try:\n",
        "       lst.append(int(i))\n",
        "     except ValueError:\n",
        "       name_lst.append(i)\n",
        "     total = 0\n",
        "     for i in range(len(lst)):\n",
        "         total=total+lst[i]\n",
        "         perc=(total/500)*100\n",
        "         for i in name_lst:\n",
        "             a = ( \"{0} {1} {2}\\n\".format(i, total, perc))\n",
        "             summary.append(a)\n",
        "             name_lst.pop(0)\n",
        "with open(\"summary.txt\",\"w\") as z:\n",
        "  for i in summary:\n",
        "      z.write(i)\n",
        "      print(i)"
      ],
      "metadata": {
        "colab": {
          "base_uri": "https://localhost:8080/"
        },
        "id": "5p3f6lzSDLpH",
        "outputId": "c41df3c8-58dd-47f8-c10b-8e98cf196ab8"
      },
      "execution_count": 44,
      "outputs": [
        {
          "output_type": "stream",
          "name": "stdout",
          "text": [
            "sai 79 15.8\n",
            "\n",
            "dinesh 75 15.0\n",
            "\n",
            "rakesh 66 13.200000000000001\n",
            "\n",
            "sravan 92 18.4\n",
            "\n",
            "pavan 90 18.0\n",
            "\n"
          ]
        }
      ]
    },
    {
      "cell_type": "code",
      "source": [
        "f =open(\"input.txt\",\"w\")\n",
        "f.write(\"Live\\n\")\n",
        "f.write(\"a\\n\")\n",
        "f.write(\"happy\\n\")\n",
        "f.write(\"life\\n\")\n",
        "f.write(\"Thanks\\n\")\n",
        "f.close()\n",
        "try:\n",
        "  with open(\"input.txt\",\"r\") as y:\n",
        "     x=y.readlines()\n",
        "     lst=[]\n",
        "     for i in x:\n",
        "       lst.append(i)\n",
        "  with open(\"output.txt\",\"w\") as z:\n",
        "    lst=lst[::-1]\n",
        "    for i in lst:\n",
        "      z.write(i)\n",
        "  with open(\"output.txt\",\"r\") as t:\n",
        "    s=t.readlines()\n",
        "    rev_lst=[]\n",
        "    for i in s:\n",
        "      rev_lst.append(i)\n",
        "    print(\"__________output___________\")\n",
        "    for i in rev_lst:\n",
        "      print(\"\\n\",i)\n",
        "    print(\"__________\")\n",
        "except FileNotFoundError:\n",
        "  print(\"path of file not found\")\n",
        "except:\n",
        "  print(\"file not opened in write format\")\n"
      ],
      "metadata": {
        "colab": {
          "base_uri": "https://localhost:8080/"
        },
        "id": "dVWBhuU-EKSt",
        "outputId": "cae4c0a9-70ff-480b-ff5a-3ee918344f91"
      },
      "execution_count": 45,
      "outputs": [
        {
          "output_type": "stream",
          "name": "stdout",
          "text": [
            "__________output___________\n",
            "\n",
            " Thanks\n",
            "\n",
            "\n",
            " life\n",
            "\n",
            "\n",
            " happy\n",
            "\n",
            "\n",
            " a\n",
            "\n",
            "\n",
            " Live\n",
            "\n",
            "__________\n"
          ]
        }
      ]
    },
    {
      "cell_type": "code",
      "source": [
        "import pandas as pd\n",
        "import numpy as np\n",
        "df = pd.read_csv(\"country.csv\")\n",
        "print(df)\n",
        "print(df.loc['0':'2' ,['country','area']])\n",
        "print(df.iloc[0:3, 1:3])"
      ],
      "metadata": {
        "colab": {
          "base_uri": "https://localhost:8080/",
          "height": 469
        },
        "id": "rw3qfCtvFQYn",
        "outputId": "49c3acac-083c-4020-8e36-4082f8712d84"
      },
      "execution_count": 58,
      "outputs": [
        {
          "output_type": "error",
          "ename": "FileNotFoundError",
          "evalue": "ignored",
          "traceback": [
            "\u001b[0;31m---------------------------------------------------------------------------\u001b[0m",
            "\u001b[0;31mFileNotFoundError\u001b[0m                         Traceback (most recent call last)",
            "\u001b[0;32m<ipython-input-58-1f3631061c0f>\u001b[0m in \u001b[0;36m<module>\u001b[0;34m()\u001b[0m\n\u001b[1;32m      1\u001b[0m \u001b[0;32mimport\u001b[0m \u001b[0mpandas\u001b[0m \u001b[0;32mas\u001b[0m \u001b[0mpd\u001b[0m\u001b[0;34m\u001b[0m\u001b[0;34m\u001b[0m\u001b[0m\n\u001b[1;32m      2\u001b[0m \u001b[0;32mimport\u001b[0m \u001b[0mnumpy\u001b[0m \u001b[0;32mas\u001b[0m \u001b[0mnp\u001b[0m\u001b[0;34m\u001b[0m\u001b[0;34m\u001b[0m\u001b[0m\n\u001b[0;32m----> 3\u001b[0;31m \u001b[0mdf\u001b[0m \u001b[0;34m=\u001b[0m \u001b[0mpd\u001b[0m\u001b[0;34m.\u001b[0m\u001b[0mread_csv\u001b[0m\u001b[0;34m(\u001b[0m\u001b[0;34m\"country.csv\"\u001b[0m\u001b[0;34m)\u001b[0m\u001b[0;34m\u001b[0m\u001b[0;34m\u001b[0m\u001b[0m\n\u001b[0m\u001b[1;32m      4\u001b[0m \u001b[0mprint\u001b[0m\u001b[0;34m(\u001b[0m\u001b[0mdf\u001b[0m\u001b[0;34m)\u001b[0m\u001b[0;34m\u001b[0m\u001b[0;34m\u001b[0m\u001b[0m\n\u001b[1;32m      5\u001b[0m \u001b[0mprint\u001b[0m\u001b[0;34m(\u001b[0m\u001b[0mdf\u001b[0m\u001b[0;34m.\u001b[0m\u001b[0mloc\u001b[0m\u001b[0;34m[\u001b[0m\u001b[0;34m'0'\u001b[0m\u001b[0;34m:\u001b[0m\u001b[0;34m'2'\u001b[0m \u001b[0;34m,\u001b[0m\u001b[0;34m[\u001b[0m\u001b[0;34m'country'\u001b[0m\u001b[0;34m,\u001b[0m\u001b[0;34m'area'\u001b[0m\u001b[0;34m]\u001b[0m\u001b[0;34m]\u001b[0m\u001b[0;34m)\u001b[0m\u001b[0;34m\u001b[0m\u001b[0;34m\u001b[0m\u001b[0m\n",
            "\u001b[0;32m/usr/local/lib/python3.7/dist-packages/pandas/io/parsers.py\u001b[0m in \u001b[0;36mread_csv\u001b[0;34m(filepath_or_buffer, sep, delimiter, header, names, index_col, usecols, squeeze, prefix, mangle_dupe_cols, dtype, engine, converters, true_values, false_values, skipinitialspace, skiprows, skipfooter, nrows, na_values, keep_default_na, na_filter, verbose, skip_blank_lines, parse_dates, infer_datetime_format, keep_date_col, date_parser, dayfirst, cache_dates, iterator, chunksize, compression, thousands, decimal, lineterminator, quotechar, quoting, doublequote, escapechar, comment, encoding, dialect, error_bad_lines, warn_bad_lines, delim_whitespace, low_memory, memory_map, float_precision)\u001b[0m\n\u001b[1;32m    686\u001b[0m     )\n\u001b[1;32m    687\u001b[0m \u001b[0;34m\u001b[0m\u001b[0m\n\u001b[0;32m--> 688\u001b[0;31m     \u001b[0;32mreturn\u001b[0m \u001b[0m_read\u001b[0m\u001b[0;34m(\u001b[0m\u001b[0mfilepath_or_buffer\u001b[0m\u001b[0;34m,\u001b[0m \u001b[0mkwds\u001b[0m\u001b[0;34m)\u001b[0m\u001b[0;34m\u001b[0m\u001b[0;34m\u001b[0m\u001b[0m\n\u001b[0m\u001b[1;32m    689\u001b[0m \u001b[0;34m\u001b[0m\u001b[0m\n\u001b[1;32m    690\u001b[0m \u001b[0;34m\u001b[0m\u001b[0m\n",
            "\u001b[0;32m/usr/local/lib/python3.7/dist-packages/pandas/io/parsers.py\u001b[0m in \u001b[0;36m_read\u001b[0;34m(filepath_or_buffer, kwds)\u001b[0m\n\u001b[1;32m    452\u001b[0m \u001b[0;34m\u001b[0m\u001b[0m\n\u001b[1;32m    453\u001b[0m     \u001b[0;31m# Create the parser.\u001b[0m\u001b[0;34m\u001b[0m\u001b[0;34m\u001b[0m\u001b[0;34m\u001b[0m\u001b[0m\n\u001b[0;32m--> 454\u001b[0;31m     \u001b[0mparser\u001b[0m \u001b[0;34m=\u001b[0m \u001b[0mTextFileReader\u001b[0m\u001b[0;34m(\u001b[0m\u001b[0mfp_or_buf\u001b[0m\u001b[0;34m,\u001b[0m \u001b[0;34m**\u001b[0m\u001b[0mkwds\u001b[0m\u001b[0;34m)\u001b[0m\u001b[0;34m\u001b[0m\u001b[0;34m\u001b[0m\u001b[0m\n\u001b[0m\u001b[1;32m    455\u001b[0m \u001b[0;34m\u001b[0m\u001b[0m\n\u001b[1;32m    456\u001b[0m     \u001b[0;32mif\u001b[0m \u001b[0mchunksize\u001b[0m \u001b[0;32mor\u001b[0m \u001b[0miterator\u001b[0m\u001b[0;34m:\u001b[0m\u001b[0;34m\u001b[0m\u001b[0;34m\u001b[0m\u001b[0m\n",
            "\u001b[0;32m/usr/local/lib/python3.7/dist-packages/pandas/io/parsers.py\u001b[0m in \u001b[0;36m__init__\u001b[0;34m(self, f, engine, **kwds)\u001b[0m\n\u001b[1;32m    946\u001b[0m             \u001b[0mself\u001b[0m\u001b[0;34m.\u001b[0m\u001b[0moptions\u001b[0m\u001b[0;34m[\u001b[0m\u001b[0;34m\"has_index_names\"\u001b[0m\u001b[0;34m]\u001b[0m \u001b[0;34m=\u001b[0m \u001b[0mkwds\u001b[0m\u001b[0;34m[\u001b[0m\u001b[0;34m\"has_index_names\"\u001b[0m\u001b[0;34m]\u001b[0m\u001b[0;34m\u001b[0m\u001b[0;34m\u001b[0m\u001b[0m\n\u001b[1;32m    947\u001b[0m \u001b[0;34m\u001b[0m\u001b[0m\n\u001b[0;32m--> 948\u001b[0;31m         \u001b[0mself\u001b[0m\u001b[0;34m.\u001b[0m\u001b[0m_make_engine\u001b[0m\u001b[0;34m(\u001b[0m\u001b[0mself\u001b[0m\u001b[0;34m.\u001b[0m\u001b[0mengine\u001b[0m\u001b[0;34m)\u001b[0m\u001b[0;34m\u001b[0m\u001b[0;34m\u001b[0m\u001b[0m\n\u001b[0m\u001b[1;32m    949\u001b[0m \u001b[0;34m\u001b[0m\u001b[0m\n\u001b[1;32m    950\u001b[0m     \u001b[0;32mdef\u001b[0m \u001b[0mclose\u001b[0m\u001b[0;34m(\u001b[0m\u001b[0mself\u001b[0m\u001b[0;34m)\u001b[0m\u001b[0;34m:\u001b[0m\u001b[0;34m\u001b[0m\u001b[0;34m\u001b[0m\u001b[0m\n",
            "\u001b[0;32m/usr/local/lib/python3.7/dist-packages/pandas/io/parsers.py\u001b[0m in \u001b[0;36m_make_engine\u001b[0;34m(self, engine)\u001b[0m\n\u001b[1;32m   1178\u001b[0m     \u001b[0;32mdef\u001b[0m \u001b[0m_make_engine\u001b[0m\u001b[0;34m(\u001b[0m\u001b[0mself\u001b[0m\u001b[0;34m,\u001b[0m \u001b[0mengine\u001b[0m\u001b[0;34m=\u001b[0m\u001b[0;34m\"c\"\u001b[0m\u001b[0;34m)\u001b[0m\u001b[0;34m:\u001b[0m\u001b[0;34m\u001b[0m\u001b[0;34m\u001b[0m\u001b[0m\n\u001b[1;32m   1179\u001b[0m         \u001b[0;32mif\u001b[0m \u001b[0mengine\u001b[0m \u001b[0;34m==\u001b[0m \u001b[0;34m\"c\"\u001b[0m\u001b[0;34m:\u001b[0m\u001b[0;34m\u001b[0m\u001b[0;34m\u001b[0m\u001b[0m\n\u001b[0;32m-> 1180\u001b[0;31m             \u001b[0mself\u001b[0m\u001b[0;34m.\u001b[0m\u001b[0m_engine\u001b[0m \u001b[0;34m=\u001b[0m \u001b[0mCParserWrapper\u001b[0m\u001b[0;34m(\u001b[0m\u001b[0mself\u001b[0m\u001b[0;34m.\u001b[0m\u001b[0mf\u001b[0m\u001b[0;34m,\u001b[0m \u001b[0;34m**\u001b[0m\u001b[0mself\u001b[0m\u001b[0;34m.\u001b[0m\u001b[0moptions\u001b[0m\u001b[0;34m)\u001b[0m\u001b[0;34m\u001b[0m\u001b[0;34m\u001b[0m\u001b[0m\n\u001b[0m\u001b[1;32m   1181\u001b[0m         \u001b[0;32melse\u001b[0m\u001b[0;34m:\u001b[0m\u001b[0;34m\u001b[0m\u001b[0;34m\u001b[0m\u001b[0m\n\u001b[1;32m   1182\u001b[0m             \u001b[0;32mif\u001b[0m \u001b[0mengine\u001b[0m \u001b[0;34m==\u001b[0m \u001b[0;34m\"python\"\u001b[0m\u001b[0;34m:\u001b[0m\u001b[0;34m\u001b[0m\u001b[0;34m\u001b[0m\u001b[0m\n",
            "\u001b[0;32m/usr/local/lib/python3.7/dist-packages/pandas/io/parsers.py\u001b[0m in \u001b[0;36m__init__\u001b[0;34m(self, src, **kwds)\u001b[0m\n\u001b[1;32m   2008\u001b[0m         \u001b[0mkwds\u001b[0m\u001b[0;34m[\u001b[0m\u001b[0;34m\"usecols\"\u001b[0m\u001b[0;34m]\u001b[0m \u001b[0;34m=\u001b[0m \u001b[0mself\u001b[0m\u001b[0;34m.\u001b[0m\u001b[0musecols\u001b[0m\u001b[0;34m\u001b[0m\u001b[0;34m\u001b[0m\u001b[0m\n\u001b[1;32m   2009\u001b[0m \u001b[0;34m\u001b[0m\u001b[0m\n\u001b[0;32m-> 2010\u001b[0;31m         \u001b[0mself\u001b[0m\u001b[0;34m.\u001b[0m\u001b[0m_reader\u001b[0m \u001b[0;34m=\u001b[0m \u001b[0mparsers\u001b[0m\u001b[0;34m.\u001b[0m\u001b[0mTextReader\u001b[0m\u001b[0;34m(\u001b[0m\u001b[0msrc\u001b[0m\u001b[0;34m,\u001b[0m \u001b[0;34m**\u001b[0m\u001b[0mkwds\u001b[0m\u001b[0;34m)\u001b[0m\u001b[0;34m\u001b[0m\u001b[0;34m\u001b[0m\u001b[0m\n\u001b[0m\u001b[1;32m   2011\u001b[0m         \u001b[0mself\u001b[0m\u001b[0;34m.\u001b[0m\u001b[0munnamed_cols\u001b[0m \u001b[0;34m=\u001b[0m \u001b[0mself\u001b[0m\u001b[0;34m.\u001b[0m\u001b[0m_reader\u001b[0m\u001b[0;34m.\u001b[0m\u001b[0munnamed_cols\u001b[0m\u001b[0;34m\u001b[0m\u001b[0;34m\u001b[0m\u001b[0m\n\u001b[1;32m   2012\u001b[0m \u001b[0;34m\u001b[0m\u001b[0m\n",
            "\u001b[0;32mpandas/_libs/parsers.pyx\u001b[0m in \u001b[0;36mpandas._libs.parsers.TextReader.__cinit__\u001b[0;34m()\u001b[0m\n",
            "\u001b[0;32mpandas/_libs/parsers.pyx\u001b[0m in \u001b[0;36mpandas._libs.parsers.TextReader._setup_parser_source\u001b[0;34m()\u001b[0m\n",
            "\u001b[0;31mFileNotFoundError\u001b[0m: [Errno 2] No such file or directory: 'country.csv'"
          ]
        }
      ]
    },
    {
      "cell_type": "code",
      "source": [
        "data = {\"Day\": ['Mon','Tue','Wed'],\"Subject\":['PSP','DS','CAO'],\"Type\":['Prac','Prac','Th']}\n",
        "df = pd.DataFrame(data)\n",
        "print(df.iloc[0:3,0:4])\n"
      ],
      "metadata": {
        "colab": {
          "base_uri": "https://localhost:8080/"
        },
        "id": "wcTZR33lF17e",
        "outputId": "9bae247a-ca5a-4518-9f1e-03070cda7e53"
      },
      "execution_count": 50,
      "outputs": [
        {
          "output_type": "stream",
          "name": "stdout",
          "text": [
            "   Day Subject  Type\n",
            "0  Mon     PSP  Prac\n",
            "1  Tue      DS  Prac\n",
            "2  Wed     CAO    Th\n"
          ]
        }
      ]
    },
    {
      "cell_type": "code",
      "source": [
        "import numpy as np\n",
        "a= np.array([2,3,6,8,4,1,12,7])\n",
        "print(np.sort(a))\n",
        "print(np.mean(a))\n",
        "print(np.std(a))\n",
        "print(np.var(a))\n",
        "print(\"The List of even numbers in this array\")\n",
        "for i in range(len(a)):\n",
        " if a[i]%2==0 :\n",
        "    list =a[i].tolist()\n",
        "    print(list)"
      ],
      "metadata": {
        "colab": {
          "base_uri": "https://localhost:8080/"
        },
        "id": "qOuNy7QtF7w3",
        "outputId": "69d5b5e8-1420-453f-9719-d5404e4c1b74"
      },
      "execution_count": 51,
      "outputs": [
        {
          "output_type": "stream",
          "name": "stdout",
          "text": [
            "[ 1  2  3  4  6  7  8 12]\n",
            "5.375\n",
            "3.3888604279314896\n",
            "11.484375\n",
            "The List of even numbers in this array\n",
            "2\n",
            "6\n",
            "8\n",
            "4\n",
            "12\n"
          ]
        }
      ]
    },
    {
      "cell_type": "code",
      "source": [
        "import matplotlib.pyplot as plt\n",
        "heights=[2177,1185,390,1150,749,88,930,600,190,800,77,182,129]\n",
        "bins= [77,500,1000,1500]\n",
        "labels = ['Normal buildings','Taller','Tallest']\n",
        "(n,bins,patches)= plt.hist(heights,bins, color = 'green',rwidth = 0.6,label =\n",
        "labels)\n",
        "plt.xlabel('Building categories')\n",
        "plt.ylabel('No. of buildings')\n",
        "plt.title('building height Analysis')\n",
        "plt.show()\n",
        "# this is to print the no of patients below the graph\n",
        "print(\"No of normal buildings\",n[0])\n",
        "print(\"No of taller buildings\",n[1])\n",
        "print(\"No of tallest buildings\",n[2])\n",
        "print(\"The bin intervals are:\",bins)"
      ],
      "metadata": {
        "colab": {
          "base_uri": "https://localhost:8080/",
          "height": 368
        },
        "id": "UxEglmTYGE7J",
        "outputId": "3ff6c2dd-64d8-434a-9ec1-62fa1c077a66"
      },
      "execution_count": 52,
      "outputs": [
        {
          "output_type": "display_data",
          "data": {
            "image/png": "[encoded data removed]",
            "text/plain": [
              "<Figure size 432x288 with 1 Axes>"
            ]
          },
          "metadata": {
            "needs_background": "light"
          }
        },
        {
          "output_type": "stream",
          "name": "stdout",
          "text": [
            "No of normal buildings 6.0\n",
            "No of taller buildings 4.0\n",
            "No of tallest buildings 2.0\n",
            "The bin intervals are: [  77  500 1000 1500]\n"
          ]
        }
      ]
    }
  ]
}